{
  "cells": [
    {
      "cell_type": "code",
      "id": "D9Y6gX3MsfiNTRw3D40mECci",
      "metadata": {
        "tags": [],
        "id": "D9Y6gX3MsfiNTRw3D40mECci",
        "cellView": "form"
      },
      "source": [
        "import os\n",
        "import vertexai\n",
        "import random\n",
        "\n",
        "# @title Default title text {\"run\":\"auto\",\"vertical-output\":true}\n",
        "variable_name = \"\" # @param {\"type\":\"string\"}\n",
        "from google.colab import auth\n",
        "auth.authenticate_user()\n",
        "\n",
        "PROJECT_ID = os.environ[\"GOOGLE_CLOUD_PROJECT\"]\n",
        "REGION = os.environ[\"GOOGLE_CLOUD_REGION\"]\n",
        "\n",
        "print(PROJECT_ID)\n",
        "BUCKET_URI = f\"gs://{PROJECT_ID}{random.randint(0,1000000)}\"\n",
        "vertexai.init(project=PROJECT_ID, location=REGION)\n",
        "! gsutil mb -l {REGION} -p {PROJECT_ID} {BUCKET_URI}\n"
      ],
      "execution_count": null,
      "outputs": []
    }
  ],
  "metadata": {
    "kernelspec": {
      "display_name": "Python 3",
      "language": "python",
      "name": "python3"
    },
    "language_info": {
      "codemirror_mode": {
        "name": "ipython",
        "version": 3
      },
      "file_extension": ".py",
      "mimetype": "text/x-python",
      "name": "python",
      "nbconvert_exporter": "python",
      "pygments_lexer": "ipython3",
      "version": "3.10.10"
    },
    "colab": {
      "provenance": [],
      "name": "bugbbtest (Jul 31, 2024, 8_55_02 PM).ipynb"
    }
  },
  "nbformat": 4,
  "nbformat_minor": 5
}
